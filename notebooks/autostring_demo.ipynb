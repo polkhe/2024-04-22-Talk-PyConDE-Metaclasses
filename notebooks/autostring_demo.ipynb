{
 "cells": [
  {
   "cell_type": "code",
   "execution_count": 1,
   "id": "3f60e01c-a5e6-4c92-9735-92554c99a0d1",
   "metadata": {},
   "outputs": [
    {
     "name": "stdout",
     "output_type": "stream",
     "text": [
      "Downloaded autostring.py\n"
     ]
    }
   ],
   "source": [
    "from os.path import basename\n",
    "from urllib.request import urlretrieve\n",
    "\n",
    "def download(url):\n",
    "    filename = basename(url)\n",
    "    local, _ = urlretrieve(url, filename)\n",
    "    print(\"Downloaded \" + str(local))\n",
    "\n",
    "download('https://raw.githubusercontent.com/leorochael/2024-04-22-Talk-PyConDE-Metaclasses/main/slides/code/autostring.py')"
   ]
  },
  {
   "cell_type": "code",
   "execution_count": 2,
   "id": "b32e6a42-bf6b-4680-b05c-b4f8b4747d71",
   "metadata": {},
   "outputs": [],
   "source": [
    "from autostring import AutoString\n",
    "\n",
    "\n",
    "class Flavour(AutoString):\n",
    "    vanilla\n",
    "    banana\n",
    "    chocolate\n"
   ]
  },
  {
   "cell_type": "code",
   "execution_count": 3,
   "id": "821cefc4-d002-4132-9cc8-0cb6da69cd1f",
   "metadata": {},
   "outputs": [
    {
     "data": {
      "text/plain": [
       "'Vanilla'"
      ]
     },
     "execution_count": 3,
     "metadata": {},
     "output_type": "execute_result"
    }
   ],
   "source": [
    "Flavour.vanilla"
   ]
  },
  {
   "cell_type": "code",
   "execution_count": null,
   "id": "8951f0b7-5cb2-47d9-87c9-63e304967297",
   "metadata": {},
   "outputs": [],
   "source": []
  }
 ],
 "metadata": {
  "kernelspec": {
   "display_name": "Python 3 (ipykernel)",
   "language": "python",
   "name": "python3"
  },
  "language_info": {
   "codemirror_mode": {
    "name": "ipython",
    "version": 3
   },
   "file_extension": ".py",
   "mimetype": "text/x-python",
   "name": "python",
   "nbconvert_exporter": "python",
   "pygments_lexer": "ipython3",
   "version": "3.12.2"
  }
 },
 "nbformat": 4,
 "nbformat_minor": 5
}
