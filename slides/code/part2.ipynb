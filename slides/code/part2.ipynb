{
 "cells": [
  {
   "cell_type": "markdown",
   "id": "8f7fe4d0-f76a-4f5c-9a1c-51798b31b108",
   "metadata": {},
   "source": [
    "# Part 2"
   ]
  },
  {
   "cell_type": "markdown",
   "id": "5ab6fc2f-432a-4f8d-9055-0960ae906918",
   "metadata": {},
   "source": [
    "## Creating New Metaclasses"
   ]
  },
  {
   "cell_type": "code",
   "execution_count": 1,
   "id": "e9edb967-4764-4eae-9bfe-10c3cc4cf15a",
   "metadata": {},
   "outputs": [],
   "source": [
    "from slide5_dynamic_class import MyClass, MyMixin\n",
    "\n",
    "from slide9_better_repr import better_repr_type\n",
    "\n",
    "def __init__(self, x):\n",
    "    self.x = x"
   ]
  },
  {
   "cell_type": "code",
   "execution_count": 2,
   "id": "6438b956-4d20-4579-a514-60bd1f18d6db",
   "metadata": {},
   "outputs": [],
   "source": [
    "MySubClassWithRepr = better_repr_type(\n",
    "    'MySubClassWithRepr',  # name\n",
    "    (MyClass, MyMixin),  # bases\n",
    "    {'__init__': __init__},   # attributes / methods\n",
    ")"
   ]
  },
  {
   "cell_type": "code",
   "execution_count": 3,
   "id": "0566ec3b-fa14-4bc7-b95d-0c264d83908b",
   "metadata": {},
   "outputs": [
    {
     "data": {
      "text/plain": [
       "MySubClassWithRepr(MyClass, MyMixin)"
      ]
     },
     "execution_count": 3,
     "metadata": {},
     "output_type": "execute_result"
    }
   ],
   "source": [
    "MySubClassWithRepr"
   ]
  },
  {
   "cell_type": "markdown",
   "id": "0b16f1c3-d191-4886-893f-4e54e1a1ccee",
   "metadata": {},
   "source": [
    "## Using Metaclasses in \"Normal\" Classes\n"
   ]
  },
  {
   "cell_type": "code",
   "execution_count": 4,
   "id": "7c348a37-a606-4b56-a501-fcca9a225f99",
   "metadata": {},
   "outputs": [],
   "source": [
    "from slide5_dynamic_class import MyClass\n",
    "\n",
    "from slide9_better_repr import better_repr_type\n",
    "\n",
    "class MySubClassWithRepr2(MyClass, metaclass=better_repr_type):\n",
    "    def __init__(self, x):\n",
    "        self.x = x\n"
   ]
  },
  {
   "cell_type": "code",
   "execution_count": 5,
   "id": "2cdd40ab-e1c5-4c50-9939-2461332a1a09",
   "metadata": {},
   "outputs": [
    {
     "data": {
      "text/plain": [
       "MySubClassWithRepr2(MyClass)"
      ]
     },
     "execution_count": 5,
     "metadata": {},
     "output_type": "execute_result"
    }
   ],
   "source": [
    "MySubClassWithRepr2"
   ]
  },
  {
   "cell_type": "markdown",
   "id": "78c5ce1c-a2e5-4c5a-8d53-8ff76cb73ab8",
   "metadata": {},
   "source": [
    "## Class Decorators\n"
   ]
  },
  {
   "cell_type": "code",
   "execution_count": 6,
   "id": "9331256c-fbd9-463e-9be4-280800968284",
   "metadata": {},
   "outputs": [
    {
     "name": "stdout",
     "output_type": "stream",
     "text": [
      "** __init__ in metaclass for Waterfowl\n",
      "** registering Duck\n",
      "** __init__ in metaclass for Duck\n",
      "** verifying: Duck\n",
      "** verified: Duck\n"
     ]
    },
    {
     "data": {
      "text/plain": [
       "<Class for making 'Duck'>"
      ]
     },
     "execution_count": 6,
     "metadata": {},
     "output_type": "execute_result"
    }
   ],
   "source": [
    "from slide20_meta_alternatives import *\n",
    "\n",
    "Waterfowl['Duck']"
   ]
  },
  {
   "cell_type": "code",
   "execution_count": 7,
   "id": "8fec8889-3c4a-43e8-98c9-080db75a156b",
   "metadata": {},
   "outputs": [
    {
     "name": "stdout",
     "output_type": "stream",
     "text": [
      "** registering Cat\n",
      "** __init__ in metaclass for Cat\n"
     ]
    }
   ],
   "source": [
    "class Cat(Duck):\n",
    "    def quack(self):\n",
    "        print(\"meow!\")"
   ]
  },
  {
   "cell_type": "code",
   "execution_count": 8,
   "id": "52ce0a75-c206-4b1f-aba3-c47de926a0b2",
   "metadata": {},
   "outputs": [
    {
     "name": "stdout",
     "output_type": "stream",
     "text": [
      "** registering Dog\n",
      "** __init__ in metaclass for Dog\n",
      "** verifying: Dog\n"
     ]
    },
    {
     "ename": "RuntimeError",
     "evalue": "What a quack! Dog is not quacky enough.",
     "output_type": "error",
     "traceback": [
      "\u001b[0;31m---------------------------------------------------------------------------\u001b[0m",
      "\u001b[0;31mRuntimeError\u001b[0m                              Traceback (most recent call last)",
      "Cell \u001b[0;32mIn[8], line 1\u001b[0m\n\u001b[0;32m----> 1\u001b[0m \u001b[38;5;129;43m@check_waterfowl\u001b[39;49m\n\u001b[1;32m      2\u001b[0m \u001b[38;5;28;43;01mclass\u001b[39;49;00m\u001b[43m \u001b[49m\u001b[38;5;21;43;01mDog\u001b[39;49;00m\u001b[43m(\u001b[49m\u001b[43mDuck\u001b[49m\u001b[43m)\u001b[49m\u001b[43m:\u001b[49m\n\u001b[1;32m      3\u001b[0m \u001b[43m    \u001b[49m\u001b[38;5;28;43;01mdef\u001b[39;49;00m\u001b[43m \u001b[49m\u001b[38;5;21;43mquack\u001b[39;49m\u001b[43m(\u001b[49m\u001b[38;5;28;43mself\u001b[39;49m\u001b[43m)\u001b[49m\u001b[43m:\u001b[49m\n\u001b[1;32m      4\u001b[0m \u001b[43m        \u001b[49m\u001b[38;5;28;43mprint\u001b[39;49m\u001b[43m(\u001b[49m\u001b[38;5;124;43m\"\u001b[39;49m\u001b[38;5;124;43mwoof, woof!\u001b[39;49m\u001b[38;5;124;43m\"\u001b[39;49m\u001b[43m)\u001b[49m\n",
      "File \u001b[0;32m~/prj/2024-04-22-Talk-PyConDE-Metaclasses/slides/code/slide20_meta_alternatives.py:38\u001b[0m, in \u001b[0;36mcheck_waterfowl\u001b[0;34m(cls)\u001b[0m\n\u001b[1;32m     36\u001b[0m name \u001b[38;5;241m=\u001b[39m \u001b[38;5;28mcls\u001b[39m\u001b[38;5;241m.\u001b[39m\u001b[38;5;18m__name__\u001b[39m\n\u001b[1;32m     37\u001b[0m \u001b[38;5;28;01mif\u001b[39;00m name \u001b[38;5;129;01mnot\u001b[39;00m \u001b[38;5;129;01min\u001b[39;00m VALID_ANATIDAE:\n\u001b[0;32m---> 38\u001b[0m     \u001b[38;5;28;01mraise\u001b[39;00m \u001b[38;5;167;01mRuntimeError\u001b[39;00m(\n\u001b[1;32m     39\u001b[0m         \u001b[38;5;124mf\u001b[39m\u001b[38;5;124m\"\u001b[39m\u001b[38;5;124mWhat a quack! \u001b[39m\u001b[38;5;132;01m{\u001b[39;00mname\u001b[38;5;132;01m}\u001b[39;00m\u001b[38;5;124m is not quacky enough.\u001b[39m\u001b[38;5;124m\"\u001b[39m\n\u001b[1;32m     40\u001b[0m     )\n\u001b[1;32m     41\u001b[0m \u001b[38;5;28mprint\u001b[39m(\u001b[38;5;124m'\u001b[39m\u001b[38;5;124m** verified:\u001b[39m\u001b[38;5;124m'\u001b[39m, \u001b[38;5;28mcls\u001b[39m\u001b[38;5;241m.\u001b[39m\u001b[38;5;18m__name__\u001b[39m)\n\u001b[1;32m     42\u001b[0m \u001b[38;5;28;01mreturn\u001b[39;00m \u001b[38;5;28mcls\u001b[39m\n",
      "\u001b[0;31mRuntimeError\u001b[0m: What a quack! Dog is not quacky enough."
     ]
    }
   ],
   "source": [
    "@check_waterfowl\n",
    "class Dog(Duck):\n",
    "    def quack(self):\n",
    "        print(\"woof, woof!\")"
   ]
  },
  {
   "cell_type": "code",
   "execution_count": null,
   "id": "285a4196-4439-42ac-adfa-b98f931bd720",
   "metadata": {},
   "outputs": [],
   "source": []
  }
 ],
 "metadata": {
  "kernelspec": {
   "display_name": "Python 3 (ipykernel)",
   "language": "python",
   "name": "python3"
  },
  "language_info": {
   "codemirror_mode": {
    "name": "ipython",
    "version": 3
   },
   "file_extension": ".py",
   "mimetype": "text/x-python",
   "name": "python",
   "nbconvert_exporter": "python",
   "pygments_lexer": "ipython3",
   "version": "3.12.2"
  }
 },
 "nbformat": 4,
 "nbformat_minor": 5
}
