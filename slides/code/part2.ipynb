{
 "cells": [
  {
   "cell_type": "markdown",
   "id": "8f7fe4d0-f76a-4f5c-9a1c-51798b31b108",
   "metadata": {},
   "source": [
    "# Part 2"
   ]
  },
  {
   "cell_type": "markdown",
   "id": "5ab6fc2f-432a-4f8d-9055-0960ae906918",
   "metadata": {},
   "source": [
    "## Creating New Metaclasses"
   ]
  },
  {
   "cell_type": "code",
   "execution_count": null,
   "id": "6378735b-b5ca-41de-89f3-d3de045359c6",
   "metadata": {},
   "outputs": [],
   "source": [
    "%less slide5_dynamic_class.py"
   ]
  },
  {
   "cell_type": "code",
   "execution_count": null,
   "id": "da3ac58f-10c4-4942-9613-1da617c3db59",
   "metadata": {},
   "outputs": [],
   "source": [
    "%less slide9_better_repr.py"
   ]
  },
  {
   "cell_type": "code",
   "execution_count": null,
   "id": "e9edb967-4764-4eae-9bfe-10c3cc4cf15a",
   "metadata": {},
   "outputs": [],
   "source": [
    "from slide5_dynamic_class import MyClass, MyMixin\n",
    "\n",
    "from slide9_better_repr import better_repr_type\n",
    "\n",
    "def __init__(self, x):\n",
    "    self.x = x"
   ]
  },
  {
   "cell_type": "code",
   "execution_count": null,
   "id": "6438b956-4d20-4579-a514-60bd1f18d6db",
   "metadata": {},
   "outputs": [],
   "source": [
    "MySubClassWithRepr = better_repr_type(\n",
    "    'MySubClassWithRepr',  # name\n",
    "    (MyClass, MyMixin),  # bases\n",
    "    {'__init__': __init__},   # attributes / methods\n",
    ")"
   ]
  },
  {
   "cell_type": "code",
   "execution_count": null,
   "id": "0566ec3b-fa14-4bc7-b95d-0c264d83908b",
   "metadata": {},
   "outputs": [],
   "source": [
    "MySubClassWithRepr"
   ]
  },
  {
   "cell_type": "markdown",
   "id": "0b16f1c3-d191-4886-893f-4e54e1a1ccee",
   "metadata": {},
   "source": [
    "## Using Metaclasses in \"Normal\" Classes\n"
   ]
  },
  {
   "cell_type": "code",
   "execution_count": null,
   "id": "7c348a37-a606-4b56-a501-fcca9a225f99",
   "metadata": {},
   "outputs": [],
   "source": [
    "from slide5_dynamic_class import MyClass\n",
    "\n",
    "from slide9_better_repr import better_repr_type\n",
    "\n",
    "class MySubClassWithRepr2(MyClass, metaclass=better_repr_type):\n",
    "    def __init__(self, x):\n",
    "        self.x = x\n"
   ]
  },
  {
   "cell_type": "code",
   "execution_count": null,
   "id": "2cdd40ab-e1c5-4c50-9939-2461332a1a09",
   "metadata": {},
   "outputs": [],
   "source": [
    "MySubClassWithRepr2"
   ]
  },
  {
   "cell_type": "markdown",
   "id": "78c5ce1c-a2e5-4c5a-8d53-8ff76cb73ab8",
   "metadata": {},
   "source": [
    "## Class Decorators\n"
   ]
  },
  {
   "cell_type": "code",
   "execution_count": null,
   "id": "0797fd34-d7e9-40ce-b5d3-94b9c0d44c2f",
   "metadata": {
    "scrolled": true
   },
   "outputs": [],
   "source": [
    "%less slide20_meta_alternatives.py"
   ]
  },
  {
   "cell_type": "code",
   "execution_count": null,
   "id": "9331256c-fbd9-463e-9be4-280800968284",
   "metadata": {},
   "outputs": [],
   "source": [
    "from slide20_meta_alternatives import *\n",
    "\n",
    "@check_waterfowl\n",
    "class Duck(Waterfowl):\n",
    "\n",
    "    def quack(self):\n",
    "        print(\"Quack!\")\n",
    "\n",
    "Waterfowl['Duck']"
   ]
  },
  {
   "cell_type": "code",
   "execution_count": null,
   "id": "8fec8889-3c4a-43e8-98c9-080db75a156b",
   "metadata": {},
   "outputs": [],
   "source": [
    "class Cat(Duck):\n",
    "    def quack(self):\n",
    "        print(\"meow!\")"
   ]
  },
  {
   "cell_type": "code",
   "execution_count": null,
   "id": "52ce0a75-c206-4b1f-aba3-c47de926a0b2",
   "metadata": {
    "slideshow": {
     "slide_type": ""
    },
    "tags": [
     "raises-exception"
    ]
   },
   "outputs": [],
   "source": [
    "@check_waterfowl\n",
    "class Dog(Duck):\n",
    "    def quack(self):\n",
    "        print(\"woof, woof!\")"
   ]
  },
  {
   "cell_type": "code",
   "execution_count": null,
   "id": "285a4196-4439-42ac-adfa-b98f931bd720",
   "metadata": {
    "slideshow": {
     "slide_type": ""
    },
    "tags": []
   },
   "outputs": [],
   "source": [
    "print('End of this notebook')"
   ]
  }
 ],
 "metadata": {
  "kernelspec": {
   "display_name": "Python 3 (ipykernel)",
   "language": "python",
   "name": "python3"
  },
  "language_info": {
   "codemirror_mode": {
    "name": "ipython",
    "version": 3
   },
   "file_extension": ".py",
   "mimetype": "text/x-python",
   "name": "python",
   "nbconvert_exporter": "python",
   "pygments_lexer": "ipython3",
   "version": "3.12.2"
  }
 },
 "nbformat": 4,
 "nbformat_minor": 5
}
